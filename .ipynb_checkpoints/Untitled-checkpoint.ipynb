{
 "cells": [
  {
   "cell_type": "markdown",
   "metadata": {},
   "source": [
    "### tkinter_游戏王查询器"
   ]
  },
  {
   "cell_type": "markdown",
   "metadata": {},
   "source": [
    "  使用tkinter做的一个游戏王查询器，运行此文件，需要的python库如下:\n",
    "1、pillow\n",
    "2、pymongo\n",
    "安装mongodb，新建一个crawl_db数据库并在里面建立一个OCG_cards的集合后，将data/cards.json导入到自己的数据集中，即可成功运行。功能基本上已经实现，但是界面上可能不是很美观，图形界面如下：\n",
    "\n",
    "![Image text](https://github.com/dynnb/ygw/blob/master/%E6%95%88%E6%9E%9C%E5%9B%BE.jpg)"
   ]
  },
  {
   "cell_type": "code",
   "execution_count": null,
   "metadata": {},
   "outputs": [],
   "source": []
  }
 ],
 "metadata": {
  "kernelspec": {
   "display_name": "Python 3",
   "language": "python",
   "name": "python3"
  },
  "language_info": {
   "codemirror_mode": {
    "name": "ipython",
    "version": 3
   },
   "file_extension": ".py",
   "mimetype": "text/x-python",
   "name": "python",
   "nbconvert_exporter": "python",
   "pygments_lexer": "ipython3",
   "version": "3.7.1"
  }
 },
 "nbformat": 4,
 "nbformat_minor": 2
}
